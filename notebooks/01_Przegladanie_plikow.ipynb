{
 "cells": [
  {
   "cell_type": "code",
   "execution_count": 8,
   "metadata": {},
   "outputs": [],
   "source": [
    "import os\n",
    "import SimpleITK as sitk\n",
    "import matplotlib.pyplot as plt\n",
    "import numpy as np\n",
    "%matplotlib inline\n",
    "from niwidgets import NiftiWidget\n",
    "\n",
    "list_all_t1_files = os.listdir(\"..\\\\dataset\")\n",
    "os.chdir(\"..\\\\dataset\")"
   ]
  },
  {
   "cell_type": "code",
   "execution_count": 46,
   "metadata": {},
   "outputs": [],
   "source": [
    "iter_data_path = list_all_t1_files[1]\n",
    "t1_iter_path = iter_data_path + \"\\\\t1.nii\"\n",
    "t2_iter_path = iter_data_path + \"\\\\t2.nii\"\n",
    "aseg_iter_path = iter_data_path + \"\\\\ASEG.nii\"\n",
    "wmparc_iter_path = iter_data_path + \"\\\\WMPARC.nii\""
   ]
  },
  {
   "cell_type": "code",
   "execution_count": 67,
   "metadata": {},
   "outputs": [],
   "source": [
    "sitk_t1 = sitk.ReadImage(t1_iter_path)\n",
    "sitk_aseg = sitk.ReadImage(t1_iter_path)\n",
    "sitk_wmparc = sitk.ReadImage(t1_iter_path)"
   ]
  },
  {
   "cell_type": "code",
   "execution_count": 48,
   "metadata": {},
   "outputs": [],
   "source": [
    "t1 = sitk.GetArrayFromImage(sitk_t1)"
   ]
  },
  {
   "cell_type": "code",
   "execution_count": 49,
   "metadata": {},
   "outputs": [
    {
     "name": "stdout",
     "output_type": "stream",
     "text": [
      "(256, 256, 150)\n",
      "(88.56121826171875, -118.76351928710938, -135.79940795898438)\n",
      "(0.9375, 0.9375, 1.2000035047531128)\n",
      "(-0.04475022522592877, 0.07188186776365744, -0.9964087589785977, 0.9898837337077383, -0.13123391708225515, -0.053924513826574566, 0.13463881714816212, 0.9887419562727455, 0.06528194114223519)\n",
      "1\n"
     ]
    }
   ],
   "source": [
    "print(sitk_t1.GetSize())\n",
    "print(sitk_t1.GetOrigin())\n",
    "print(sitk_t1.GetSpacing())\n",
    "print(sitk_t1.GetDirection())\n",
    "print(sitk_t1.GetNumberOfComponentsPerPixel())"
   ]
  },
  {
   "cell_type": "code",
   "execution_count": 50,
   "metadata": {
    "scrolled": false
   },
   "outputs": [
    {
     "data": {
      "text/plain": [
       "<Figure size 432x288 with 0 Axes>"
      ]
     },
     "metadata": {},
     "output_type": "display_data"
    },
    {
     "data": {
      "application/vnd.jupyter.widget-view+json": {
       "model_id": "05b6d02d2b21464897157d86007ebe86",
       "version_major": 2,
       "version_minor": 0
      },
      "text/plain": [
       "interactive(children=(IntSlider(value=127, continuous_update=False, description='x', max=255), IntSlider(value…"
      ]
     },
     "metadata": {},
     "output_type": "display_data"
    }
   ],
   "source": [
    "test_widget = NiftiWidget(t1_iter_path)\n",
    "test_widget.nifti_plotter()"
   ]
  },
  {
   "cell_type": "code",
   "execution_count": 54,
   "metadata": {},
   "outputs": [
    {
     "data": {
      "text/plain": [
       "<Figure size 432x288 with 0 Axes>"
      ]
     },
     "metadata": {},
     "output_type": "display_data"
    },
    {
     "data": {
      "application/vnd.jupyter.widget-view+json": {
       "model_id": "e5fa3d1838c8450ebc3a3a3c254d7e0e",
       "version_major": 2,
       "version_minor": 0
      },
      "text/plain": [
       "interactive(children=(IntSlider(value=127, continuous_update=False, description='x', max=255), IntSlider(value…"
      ]
     },
     "metadata": {},
     "output_type": "display_data"
    }
   ],
   "source": [
    "test_widget = NiftiWidget(aseg_iter_path)\n",
    "test_widget.nifti_plotter()"
   ]
  },
  {
   "cell_type": "code",
   "execution_count": 55,
   "metadata": {
    "scrolled": true
   },
   "outputs": [
    {
     "data": {
      "text/plain": [
       "<Figure size 432x288 with 0 Axes>"
      ]
     },
     "metadata": {},
     "output_type": "display_data"
    },
    {
     "data": {
      "application/vnd.jupyter.widget-view+json": {
       "model_id": "2974172b550c4e0da314f4fc16823a76",
       "version_major": 2,
       "version_minor": 0
      },
      "text/plain": [
       "interactive(children=(IntSlider(value=127, continuous_update=False, description='x', max=255), IntSlider(value…"
      ]
     },
     "metadata": {},
     "output_type": "display_data"
    }
   ],
   "source": [
    "test_widget = NiftiWidget(wmparc_iter_path)\n",
    "test_widget.nifti_plotter()"
   ]
  },
  {
   "cell_type": "code",
   "execution_count": 57,
   "metadata": {},
   "outputs": [],
   "source": [
    "sitk_t2 = sitk.ReadImage(t1_iter_path)"
   ]
  },
  {
   "cell_type": "code",
   "execution_count": 58,
   "metadata": {},
   "outputs": [
    {
     "name": "stdout",
     "output_type": "stream",
     "text": [
      "(256, 256, 150)\n",
      "(88.56121826171875, -118.76351928710938, -135.79940795898438)\n",
      "(0.9375, 0.9375, 1.2000035047531128)\n",
      "(-0.04475022522592877, 0.07188186776365744, -0.9964087589785977, 0.9898837337077383, -0.13123391708225515, -0.053924513826574566, 0.13463881714816212, 0.9887419562727455, 0.06528194114223519)\n",
      "1\n"
     ]
    }
   ],
   "source": [
    "print(sitk_t2.GetSize())\n",
    "print(sitk_t2.GetOrigin())\n",
    "print(sitk_t2.GetSpacing())\n",
    "print(sitk_t2.GetDirection())\n",
    "print(sitk_t2.GetNumberOfComponentsPerPixel())"
   ]
  },
  {
   "cell_type": "code",
   "execution_count": 60,
   "metadata": {},
   "outputs": [
    {
     "name": "stdout",
     "output_type": "stream",
     "text": [
      "1\n",
      "1\n"
     ]
    }
   ],
   "source": [
    "print(sitk_t1.GetNumberOfComponentsPerPixel())\n",
    "print(sitk_t2.GetNumberOfComponentsPerPixel())"
   ]
  },
  {
   "cell_type": "code",
   "execution_count": 63,
   "metadata": {},
   "outputs": [
    {
     "name": "stdout",
     "output_type": "stream",
     "text": [
      "\"ITK_FileNotes\":\"MR\"\n",
      "\"aux_file\":\"\"\n",
      "\"bitpix\":\"16\"\n",
      "\"cal_max\":\"0\"\n",
      "\"cal_min\":\"0\"\n",
      "\"datatype\":\"4\"\n",
      "\"descrip\":\"MR\"\n",
      "\"dim[0]\":\"3\"\n",
      "\"dim[1]\":\"256\"\n",
      "\"dim[2]\":\"256\"\n",
      "\"dim[3]\":\"150\"\n",
      "\"dim[4]\":\"1\"\n",
      "\"dim[5]\":\"1\"\n",
      "\"dim[6]\":\"1\"\n",
      "\"dim[7]\":\"1\"\n",
      "\"dim_info\":\"\u0000\"\n",
      "\"intent_code\":\"0\"\n",
      "\"intent_name\":\"\"\n",
      "\"intent_p1\":\"0\"\n",
      "\"intent_p2\":\"0\"\n",
      "\"intent_p3\":\"0\"\n",
      "\"pixdim[0]\":\"-1\"\n",
      "\"pixdim[1]\":\"0.9375\"\n",
      "\"pixdim[2]\":\"0.9375\"\n",
      "\"pixdim[3]\":\"1.2\"\n",
      "\"pixdim[4]\":\"0\"\n",
      "\"pixdim[5]\":\"0\"\n",
      "\"pixdim[6]\":\"0\"\n",
      "\"pixdim[7]\":\"0\"\n",
      "\"qform_code\":\"1\"\n",
      "\"qform_code_name\":\"NIFTI_XFORM_SCANNER_ANAT\"\n",
      "\"qoffset_x\":\"-88.5612\"\n",
      "\"qoffset_y\":\"118.764\"\n",
      "\"qoffset_z\":\"-135.799\"\n",
      "\"quatern_b\":\"0.494671\"\n",
      "\"quatern_c\":\"-0.536602\"\n",
      "\"quatern_d\":\"-0.435527\"\n",
      "\"scl_inter\":\"0\"\n",
      "\"scl_slope\":\"1.8359\"\n",
      "\"sform_code\":\"1\"\n",
      "\"sform_code_name\":\"NIFTI_XFORM_SCANNER_ANAT\"\n",
      "\"slice_code\":\"\u0000\"\n",
      "\"slice_duration\":\"0\"\n",
      "\"slice_end\":\"0\"\n",
      "\"slice_start\":\"0\"\n",
      "\"srow_x\":\"0.0419534 -0.0673892 1.19569 -88.5612\"\n",
      "\"srow_y\":\"-0.928016 0.123032 0.0647097 118.764\"\n",
      "\"srow_z\":\"0.126224 0.926946 0.0783385 -135.799\"\n",
      "\"toffset\":\"0\"\n",
      "\"vox_offset\":\"352\"\n",
      "\"xyzt_units\":\"\n",
      "\"\n"
     ]
    }
   ],
   "source": [
    "for key in sitk_t1.GetMetaDataKeys():\n",
    "    print(\"\\\"{0}\\\":\\\"{1}\\\"\".format(key, sitk_t1.GetMetaData(key)))"
   ]
  }
 ],
 "metadata": {
  "kernelspec": {
   "display_name": "Python 3",
   "language": "python",
   "name": "python3"
  },
  "language_info": {
   "codemirror_mode": {
    "name": "ipython",
    "version": 3
   },
   "file_extension": ".py",
   "mimetype": "text/x-python",
   "name": "python",
   "nbconvert_exporter": "python",
   "pygments_lexer": "ipython3",
   "version": "3.8.2"
  }
 },
 "nbformat": 4,
 "nbformat_minor": 4
}
